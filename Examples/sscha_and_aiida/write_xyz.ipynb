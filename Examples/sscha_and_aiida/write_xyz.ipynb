{
 "cells": [
  {
   "cell_type": "code",
   "execution_count": 2,
   "metadata": {},
   "outputs": [
    {
     "data": {
      "text/plain": [
       "Profile<uuid='f1b179e2a9c84e01809b87556826d82b' name='quicksetup'>"
      ]
     },
     "execution_count": 2,
     "metadata": {},
     "output_type": "execute_result"
    }
   ],
   "source": [
    "import numpy as np\n",
    "from datetime import datetime\n",
    "\n",
    "from aiida import load_profile\n",
    "from aiida.orm import *\n",
    "\n",
    "from qe_tools import CONSTANTS as C\n",
    "\n",
    "from ase.io import write\n",
    "from ase import units\n",
    "from ase.calculators.singlepoint import SinglePointCalculator\n",
    "\n",
    "load_profile()"
   ]
  },
  {
   "cell_type": "code",
   "execution_count": 28,
   "metadata": {},
   "outputs": [
    {
     "data": {
      "text/plain": [
       "91"
      ]
     },
     "execution_count": 28,
     "metadata": {},
     "output_type": "execute_result"
    }
   ],
   "source": [
    "# group_label = 'CsPbI3/SSCHA/250K'\n",
    "\n",
    "qb = QueryBuilder()\n",
    "# qb.append(Group, filters={'label': group_label}, tag='g')\n",
    "# qb.append(WorkChainNode, filters={'attributes.exit_status': 0}, with_group='g', tag='wc')\n",
    "qb.append(\n",
    "    WorkChainNode,\n",
    "    filters={\n",
    "        'attributes.exit_status': 0,\n",
    "        'attributes.process_label':'PwBaseWorkChain',\n",
    "        'ctime': {'>=': datetime(2024, 4, 4)},  \n",
    "    },\n",
    "    tag='wc',\n",
    ")\n",
    "qb.append(\n",
    "    TrajectoryData,\n",
    "    # filters=(Node.fields.attributes.symbols == ['Si']),\n",
    "    filters={\n",
    "        'attributes.symbols': {'contains': ['Si'], 'shorter': 17, 'longer': 15},\n",
    "    },\n",
    "    with_incoming='wc',\n",
    ")\n",
    "\n",
    "qb.count()"
   ]
  },
  {
   "cell_type": "code",
   "execution_count": 29,
   "metadata": {},
   "outputs": [],
   "source": [
    "results = qb.all(flat=True)"
   ]
  },
  {
   "cell_type": "code",
   "execution_count": 30,
   "metadata": {},
   "outputs": [
    {
     "data": {
      "text/plain": [
       "{'symbols': ['Si',\n",
       "  'Si',\n",
       "  'Si',\n",
       "  'Si',\n",
       "  'Si',\n",
       "  'Si',\n",
       "  'Si',\n",
       "  'Si',\n",
       "  'Si',\n",
       "  'Si',\n",
       "  'Si',\n",
       "  'Si',\n",
       "  'Si',\n",
       "  'Si',\n",
       "  'Si',\n",
       "  'Si'],\n",
       " 'array|cells': [1, 3, 3],\n",
       " 'array|steps': [1],\n",
       " 'array|energy': [1],\n",
       " 'array|forces': [1, 16, 3],\n",
       " 'array|stress': [1, 3, 3],\n",
       " 'array|energy_xc': [1],\n",
       " 'array|positions': [1, 16, 3],\n",
       " 'array|total_force': [1],\n",
       " 'array|energy_ewald': [1],\n",
       " 'array|fermi_energy': [1],\n",
       " 'array|scf_accuracy': [9],\n",
       " 'array|energy_hartree': [1],\n",
       " 'array|scf_iterations': [1],\n",
       " 'array|energy_accuracy': [1],\n",
       " 'array|energy_smearing': [1],\n",
       " 'array|energy_threshold': [1],\n",
       " 'array|atomic_species_name': [16],\n",
       " 'array|energy_one_electron': [1]}"
      ]
     },
     "execution_count": 30,
     "metadata": {},
     "output_type": "execute_result"
    }
   ],
   "source": [
    "results[0].base.attributes.all"
   ]
  },
  {
   "cell_type": "code",
   "execution_count": 36,
   "metadata": {},
   "outputs": [
    {
     "data": {
      "text/plain": [
       "(13.6056917253, 13.605693012183622)"
      ]
     },
     "execution_count": 36,
     "metadata": {},
     "output_type": "execute_result"
    }
   ],
   "source": [
    "C.ry_to_ev, units.Ry"
   ]
  },
  {
   "cell_type": "code",
   "execution_count": 31,
   "metadata": {},
   "outputs": [],
   "source": [
    "stress_units = (-1 * units.Ry / units.Bohr**3)/(C.ry_si / C.bohr_si**3 / 10**9) # convention as in ASE (sign and eV/Ang^3)\n",
    "\n",
    "filename = './dataset-sscha.xyz'\n",
    "\n",
    "for res in results:\n",
    "    index = 0\n",
    "    atoms = res.get_step_structure(index).get_ase()\n",
    "    energy = res.get_array('energy')[index]\n",
    "    s = res.get_array('stress')[index]\n",
    "\n",
    "    calc = SinglePointCalculator(atoms)\n",
    "\n",
    "    calc.results = {\n",
    "        'energy': energy,\n",
    "        'free_energy': energy,\n",
    "        'forces': res.get_array('forces')[index],\n",
    "        'stress': stress_units*np.array([s[0,0],s[1,1],s[2,2],s[1,2],s[0,2],s[0,1]]),\n",
    "    }\n",
    "\n",
    "    atoms.calc = calc\n",
    "\n",
    "    write(filename, atoms, format='extxyz', append=True)\n",
    "    # break"
   ]
  },
  {
   "cell_type": "code",
   "execution_count": 22,
   "metadata": {},
   "outputs": [
    {
     "data": {
      "text/plain": [
       "array([[ 0.03541242, -0.01678025, -0.01865329],\n",
       "       [-0.01678025,  0.04417991, -0.01289093],\n",
       "       [-0.01865329, -0.01289093,  0.04192492]])"
      ]
     },
     "execution_count": 22,
     "metadata": {},
     "output_type": "execute_result"
    }
   ],
   "source": [
    "s*stress_units"
   ]
  },
  {
   "cell_type": "code",
   "execution_count": 9,
   "metadata": {},
   "outputs": [
    {
     "data": {
      "text/plain": [
       "25.711031209285363"
      ]
     },
     "execution_count": 9,
     "metadata": {},
     "output_type": "execute_result"
    }
   ],
   "source": [
    "from qe_tools import CONSTANTS as C\n",
    "\n",
    "C.ry_to_ev / C.bohr_to_ang"
   ]
  },
  {
   "cell_type": "code",
   "execution_count": 10,
   "metadata": {},
   "outputs": [
    {
     "data": {
      "text/plain": [
       "-3.1342698352273604"
      ]
     },
     "execution_count": 10,
     "metadata": {},
     "output_type": "execute_result"
    }
   ],
   "source": [
    "-0.12190370*25.711031209285363"
   ]
  },
  {
   "cell_type": "code",
   "execution_count": 6,
   "metadata": {},
   "outputs": [
    {
     "data": {
      "text/plain": [
       "array([[ 5.33819603e-01, -3.13426977e+00,  2.21529350e+00],\n",
       "       [-3.61151040e-01,  1.14138113e-01,  3.71801765e-02],\n",
       "       [-1.29917331e-01, -4.65262292e-02,  4.80323948e-04],\n",
       "       [ 6.49981407e-03, -5.67746845e-02, -5.44976344e-01],\n",
       "       [ 1.43491153e+00, -1.29718723e-02, -1.85130988e+00],\n",
       "       [ 6.30538141e+00, -2.56791248e+00,  7.08259788e+00],\n",
       "       [-5.78140040e-01, -2.29837349e-01,  4.43329029e-01],\n",
       "       [ 9.42794295e-01, -7.23102748e-02,  6.58932930e-02],\n",
       "       [ 1.03831906e-01,  5.36502991e-03,  1.89444206e-01],\n",
       "       [-6.22099867e+00,  2.91243849e+00, -7.01624532e+00],\n",
       "       [-1.35660162e+00,  2.46259856e+00, -9.54574037e-01],\n",
       "       [-1.32330763e-01, -8.08972545e-01,  7.27709766e-01],\n",
       "       [-6.03900509e-01,  3.05007627e+00, -2.38370475e+00],\n",
       "       [-1.99602495e-02, -5.40431055e-01,  9.21258153e-01],\n",
       "       [ 2.50064946e-01,  1.22705865e+00, -6.68718486e-01],\n",
       "       [-1.21055158e-01,  1.98872765e-01, -2.05141292e-01],\n",
       "       [-2.16071821e-02, -5.25956510e-04, -4.30194424e-01],\n",
       "       [-4.96366623e-01, -1.41303086e+00,  1.36288121e+00],\n",
       "       [ 5.04037476e-02, -1.06347767e-02, -5.79919891e-01],\n",
       "       [-2.44324855e-01, -2.32362169e-01, -1.03545247e-01],\n",
       "       [-1.08313545e+00,  9.28877717e-02,  1.51277910e+00],\n",
       "       [ 3.77004310e-01,  1.64521753e-01,  5.79563044e-01],\n",
       "       [-5.42713435e-01,  4.34002260e+00,  4.57724386e+00],\n",
       "       [-1.06650109e+00,  1.03115538e+00, -4.24849967e-01],\n",
       "       [-1.33975681e-01, -2.21176253e-01,  1.49455267e-02],\n",
       "       [ 1.03219990e-01, -8.91747205e-01, -1.18437023e+00],\n",
       "       [-4.17225200e-01, -1.63965976e-01, -2.14932401e-01],\n",
       "       [ 5.24900139e-01,  6.22992631e-02,  4.32876397e-01],\n",
       "       [-3.28301406e-01, -4.86468190e-02, -6.19020834e-01],\n",
       "       [-1.68918635e-01, -8.84100159e-03, -2.45400952e-01],\n",
       "       [ 2.99326150e-01, -1.12787613e+00,  1.56397993e-01],\n",
       "       [ 9.76087915e-02, -4.19825629e-01, -2.77368926e-01],\n",
       "       [ 9.28913145e-02,  1.35357295e+00,  1.34226993e+00],\n",
       "       [ 1.67503151e+00, -9.36859867e-01, -6.95805171e-01],\n",
       "       [ 3.88135986e-02,  2.37871501e-01,  6.43236830e-02],\n",
       "       [ 5.71888574e-01, -4.27585144e+00, -4.12269386e+00],\n",
       "       [ 8.25157363e-01,  8.85218162e-03,  3.82151920e-01],\n",
       "       [ 3.74536853e-01, -2.17994808e-01,  2.21086801e-02],\n",
       "       [-1.54682178e-01,  1.29444662e-01,  2.53030092e-01],\n",
       "       [-4.26278737e-01,  4.81692086e-02,  1.39014255e-01]])"
      ]
     },
     "execution_count": 6,
     "metadata": {},
     "output_type": "execute_result"
    }
   ],
   "source": [
    "res.get_array('forces')[index]"
   ]
  },
  {
   "cell_type": "code",
   "execution_count": 8,
   "metadata": {},
   "outputs": [
    {
     "name": "stderr",
     "output_type": "stream",
     "text": [
      "/home/bastonero/.conda/envs/aiida/lib/python3.9/site-packages/aiida/storage/psql_dos/backend.py:270: SAWarning: Object of type <DbNode> not in session, add operation along 'DbUser.dbnodes' will not proceed\n",
      "  with session.begin_nested() as savepoint:\n"
     ]
    },
    {
     "data": {
      "text/plain": [
       "<CalcJobNode: uuid: 394bf45a-b992-495c-87d4-75fec8b60b81 (pk: 4167626) (aiida.calculations:quantumespresso.pw)>"
      ]
     },
     "execution_count": 8,
     "metadata": {},
     "output_type": "execute_result"
    }
   ],
   "source": [
    "res.creator"
   ]
  },
  {
   "cell_type": "code",
   "execution_count": null,
   "metadata": {},
   "outputs": [],
   "source": []
  }
 ],
 "metadata": {
  "kernelspec": {
   "display_name": "Python 3.8.12 ('aiida')",
   "language": "python",
   "name": "python3"
  },
  "language_info": {
   "codemirror_mode": {
    "name": "ipython",
    "version": 3
   },
   "file_extension": ".py",
   "mimetype": "text/x-python",
   "name": "python",
   "nbconvert_exporter": "python",
   "pygments_lexer": "ipython3",
   "version": "3.8.18"
  },
  "orig_nbformat": 4,
  "vscode": {
   "interpreter": {
    "hash": "ad8f63c217015a5132ad55bc66b40838ad2ef6ce473dcbccdf600c93ceb49af4"
   }
  }
 },
 "nbformat": 4,
 "nbformat_minor": 2
}
