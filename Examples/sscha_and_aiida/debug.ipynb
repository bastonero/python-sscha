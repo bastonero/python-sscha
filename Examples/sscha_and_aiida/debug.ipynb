{
 "cells": [
  {
   "cell_type": "code",
   "execution_count": 3,
   "metadata": {},
   "outputs": [],
   "source": [
    "import numpy as np\n",
    "import matplotlib.pyplot as plt\n",
    "\n",
    "\n",
    "plt.rcParams.update({\n",
    "    'text.usetex': False,\n",
    "    # 'text.latex.preamble': r'\\usepackage{sansmath} \\sansmath',\n",
    "    'pdf.fonttype':42,\n",
    "    'font.family':'sans-serif',\n",
    "    'font.sans-serif':'Arial',\n",
    "    'font.size':14,\n",
    "    'mathtext.fontset': 'stixsans',\n",
    "})"
   ]
  },
  {
   "cell_type": "code",
   "execution_count": 5,
   "metadata": {},
   "outputs": [],
   "source": [
    "e1 = np.load('./ensembles_P0_T0/energies_pop1.npy')\n",
    "e1_ref = np.load('./ensembles_P0_T0_flare/energies_pop1.npy')"
   ]
  },
  {
   "cell_type": "code",
   "execution_count": 8,
   "metadata": {},
   "outputs": [
    {
     "data": {
      "text/plain": [
       "array([1.43868396e-05, 1.43867750e-05, 1.43880794e-05, 1.43880354e-05,\n",
       "       1.43876365e-05, 1.43876491e-05, 1.43881572e-05, 1.43880628e-05,\n",
       "       1.43881299e-05, 1.43880515e-05, 1.43883702e-05, 1.43884091e-05,\n",
       "       1.43877871e-05, 1.43878373e-05, 1.43874900e-05, 1.43878636e-05,\n",
       "       1.43875186e-05, 1.43875482e-05, 1.43883338e-05, 1.43881900e-05,\n",
       "       1.43863038e-05, 1.43861772e-05, 1.43872463e-05, 1.43872393e-05,\n",
       "       1.43875951e-05, 1.43876925e-05, 1.43882204e-05, 1.43884404e-05,\n",
       "       1.43877097e-05, 1.43877564e-05, 1.43874619e-05, 1.43873153e-05,\n",
       "       1.43875307e-05, 1.43875338e-05, 1.43885549e-05, 1.43885293e-05,\n",
       "       1.43879409e-05, 1.43879718e-05, 1.43876421e-05, 1.43876900e-05,\n",
       "       1.43871590e-05, 1.43871877e-05, 1.43885125e-05, 1.43885110e-05,\n",
       "       1.43882812e-05, 1.43883588e-05, 1.43880605e-05, 1.43880690e-05,\n",
       "       1.43875240e-05, 1.43878062e-05])"
      ]
     },
     "execution_count": 8,
     "metadata": {},
     "output_type": "execute_result"
    }
   ],
   "source": [
    "e1-e1_ref"
   ]
  },
  {
   "cell_type": "code",
   "execution_count": 14,
   "metadata": {},
   "outputs": [
    {
     "data": {
      "text/plain": [
       "0.0"
      ]
     },
     "execution_count": 14,
     "metadata": {},
     "output_type": "execute_result"
    }
   ],
   "source": [
    "np.abs(e1-e1_ref).max()"
   ]
  },
  {
   "cell_type": "code",
   "execution_count": 15,
   "metadata": {},
   "outputs": [],
   "source": [
    "e1 = np.load('./ensembles_P0_T0/xats_pop1.npy')\n",
    "e1_ref = np.load('./ensembles_P0_T0_flare/xats_pop1.npy')"
   ]
  },
  {
   "cell_type": "code",
   "execution_count": 16,
   "metadata": {},
   "outputs": [
    {
     "data": {
      "text/plain": [
       "0.0"
      ]
     },
     "execution_count": 16,
     "metadata": {},
     "output_type": "execute_result"
    }
   ],
   "source": [
    "np.abs(e1-e1_ref).max()"
   ]
  },
  {
   "cell_type": "code",
   "execution_count": 17,
   "metadata": {},
   "outputs": [],
   "source": [
    "f1 = np.load('./ensembles_P0_T0/forces_pop1.npy')\n",
    "f1_ref = np.load('./ensembles_P0_T0_flare/forces_pop1.npy')"
   ]
  },
  {
   "cell_type": "code",
   "execution_count": 18,
   "metadata": {},
   "outputs": [
    {
     "data": {
      "text/plain": [
       "1.1266246074947972e-08"
      ]
     },
     "execution_count": 18,
     "metadata": {},
     "output_type": "execute_result"
    }
   ],
   "source": [
    "np.abs(f1-f1_ref).max()"
   ]
  },
  {
   "cell_type": "code",
   "execution_count": 19,
   "metadata": {},
   "outputs": [],
   "source": [
    "f1 = np.load('./ensembles_P0_T0/stresses_pop1.npy')\n",
    "f1_ref = np.load('./ensembles_P0_T0_flare/stresses_pop1.npy')"
   ]
  },
  {
   "cell_type": "code",
   "execution_count": 20,
   "metadata": {},
   "outputs": [
    {
     "data": {
      "text/plain": [
       "1.0972052829011716e-11"
      ]
     },
     "execution_count": 20,
     "metadata": {},
     "output_type": "execute_result"
    }
   ],
   "source": [
    "np.abs(f1-f1_ref).max()"
   ]
  },
  {
   "cell_type": "code",
   "execution_count": null,
   "metadata": {},
   "outputs": [],
   "source": []
  }
 ],
 "metadata": {
  "kernelspec": {
   "display_name": "Python 3.9.16 ('aiida-sscha')",
   "language": "python",
   "name": "python3"
  },
  "language_info": {
   "codemirror_mode": {
    "name": "ipython",
    "version": 3
   },
   "file_extension": ".py",
   "mimetype": "text/x-python",
   "name": "python",
   "nbconvert_exporter": "python",
   "pygments_lexer": "ipython3",
   "version": "3.9.16"
  },
  "orig_nbformat": 4,
  "vscode": {
   "interpreter": {
    "hash": "dbf713cbd6c5cb781e360dd03dc580f1c4e0f3272ba8f8d2e6f58f9ae4ed7519"
   }
  }
 },
 "nbformat": 4,
 "nbformat_minor": 2
}
